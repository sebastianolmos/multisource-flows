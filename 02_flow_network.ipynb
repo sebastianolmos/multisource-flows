{
 "cells": [
  {
   "cell_type": "markdown",
   "metadata": {},
   "source": [
    "# Flow Network\n",
    "\n",
    "In this notebook we build a network of flows between places, i.e., the number of _trips_ between two areas.\n",
    "\n",
    "## Preamble"
   ]
  },
  {
   "cell_type": "code",
   "execution_count": 22,
   "metadata": {},
   "outputs": [],
   "source": [
    "import seaborn as sns\n",
    "import matplotlib.pyplot as plt\n",
    "%matplotlib inline\n",
    "sns.set(context='notebook', font='Lucida Sans Unicode', style='white', palette='plasma')"
   ]
  },
  {
   "cell_type": "code",
   "execution_count": 23,
   "metadata": {},
   "outputs": [],
   "source": [
    "import pandas as pd\n",
    "import geopandas as gpd"
   ]
  },
  {
   "cell_type": "code",
   "execution_count": 24,
   "metadata": {},
   "outputs": [
    {
     "data": {
      "text/html": [
       "<div>\n",
       "<style scoped>\n",
       "    .dataframe tbody tr th:only-of-type {\n",
       "        vertical-align: middle;\n",
       "    }\n",
       "\n",
       "    .dataframe tbody tr th {\n",
       "        vertical-align: top;\n",
       "    }\n",
       "\n",
       "    .dataframe thead th {\n",
       "        text-align: right;\n",
       "    }\n",
       "</style>\n",
       "<table border=\"1\" class=\"dataframe\">\n",
       "  <thead>\n",
       "    <tr style=\"text-align: right;\">\n",
       "      <th></th>\n",
       "      <th>Unnamed: 0</th>\n",
       "      <th>user_id</th>\n",
       "      <th>venue_id</th>\n",
       "      <th>datetime</th>\n",
       "      <th>utc_offset</th>\n",
       "    </tr>\n",
       "  </thead>\n",
       "  <tbody>\n",
       "    <tr>\n",
       "      <th>0</th>\n",
       "      <td>56</td>\n",
       "      <td>44093</td>\n",
       "      <td>4dc0367c6a23e5a549e68d9b</td>\n",
       "      <td>Tue Apr 03 18:00:22 +0000 2012</td>\n",
       "      <td>-180</td>\n",
       "    </tr>\n",
       "    <tr>\n",
       "      <th>1</th>\n",
       "      <td>82</td>\n",
       "      <td>980044</td>\n",
       "      <td>4bb8ddd31261d13ab608e998</td>\n",
       "      <td>Tue Apr 03 18:00:27 +0000 2012</td>\n",
       "      <td>-180</td>\n",
       "    </tr>\n",
       "    <tr>\n",
       "      <th>2</th>\n",
       "      <td>83</td>\n",
       "      <td>640995</td>\n",
       "      <td>4f7200c9e4b0e30fde677e23</td>\n",
       "      <td>Tue Apr 03 18:00:28 +0000 2012</td>\n",
       "      <td>-180</td>\n",
       "    </tr>\n",
       "    <tr>\n",
       "      <th>3</th>\n",
       "      <td>179</td>\n",
       "      <td>969261</td>\n",
       "      <td>4d386aa93ffba1433b405c56</td>\n",
       "      <td>Tue Apr 03 18:00:55 +0000 2012</td>\n",
       "      <td>-180</td>\n",
       "    </tr>\n",
       "    <tr>\n",
       "      <th>4</th>\n",
       "      <td>180</td>\n",
       "      <td>1424666</td>\n",
       "      <td>4b6f2cf8f964a52013e22ce3</td>\n",
       "      <td>Tue Apr 03 18:00:55 +0000 2012</td>\n",
       "      <td>-180</td>\n",
       "    </tr>\n",
       "  </tbody>\n",
       "</table>\n",
       "</div>"
      ],
      "text/plain": [
       "   Unnamed: 0  user_id                  venue_id  \\\n",
       "0          56    44093  4dc0367c6a23e5a549e68d9b   \n",
       "1          82   980044  4bb8ddd31261d13ab608e998   \n",
       "2          83   640995  4f7200c9e4b0e30fde677e23   \n",
       "3         179   969261  4d386aa93ffba1433b405c56   \n",
       "4         180  1424666  4b6f2cf8f964a52013e22ce3   \n",
       "\n",
       "                         datetime  utc_offset  \n",
       "0  Tue Apr 03 18:00:22 +0000 2012        -180  \n",
       "1  Tue Apr 03 18:00:27 +0000 2012        -180  \n",
       "2  Tue Apr 03 18:00:28 +0000 2012        -180  \n",
       "3  Tue Apr 03 18:00:55 +0000 2012        -180  \n",
       "4  Tue Apr 03 18:00:55 +0000 2012        -180  "
      ]
     },
     "execution_count": 24,
     "metadata": {},
     "output_type": "execute_result"
    }
   ],
   "source": [
    "checkins = pd.read_csv('output/santiago_relevant_check_ins.csv.gz')\n",
    "checkins.head()"
   ]
  },
  {
   "cell_type": "code",
   "execution_count": 25,
   "metadata": {},
   "outputs": [
    {
     "data": {
      "text/html": [
       "<div>\n",
       "<style scoped>\n",
       "    .dataframe tbody tr th:only-of-type {\n",
       "        vertical-align: middle;\n",
       "    }\n",
       "\n",
       "    .dataframe tbody tr th {\n",
       "        vertical-align: top;\n",
       "    }\n",
       "\n",
       "    .dataframe thead th {\n",
       "        text-align: right;\n",
       "    }\n",
       "</style>\n",
       "<table border=\"1\" class=\"dataframe\">\n",
       "  <thead>\n",
       "    <tr style=\"text-align: right;\">\n",
       "      <th></th>\n",
       "      <th>venue_id</th>\n",
       "      <th>category</th>\n",
       "      <th>index_right</th>\n",
       "      <th>geometry</th>\n",
       "    </tr>\n",
       "  </thead>\n",
       "  <tbody>\n",
       "    <tr>\n",
       "      <th>0</th>\n",
       "      <td>4af8ffeaf964a520cd1022e3</td>\n",
       "      <td>Other Great Outdoors</td>\n",
       "      <td>1135</td>\n",
       "      <td>POINT (-70.66046 -33.44616)</td>\n",
       "    </tr>\n",
       "    <tr>\n",
       "      <th>1</th>\n",
       "      <td>4b4463faf964a52078f425e3</td>\n",
       "      <td>Sushi Restaurant</td>\n",
       "      <td>3752</td>\n",
       "      <td>POINT (-70.51793 -33.3738)</td>\n",
       "    </tr>\n",
       "    <tr>\n",
       "      <th>2</th>\n",
       "      <td>4b4463faf964a52078f425e3</td>\n",
       "      <td>Sushi Restaurant</td>\n",
       "      <td>3753</td>\n",
       "      <td>POINT (-70.51793 -33.3738)</td>\n",
       "    </tr>\n",
       "    <tr>\n",
       "      <th>3</th>\n",
       "      <td>4b44abe7f964a5201ef925e3</td>\n",
       "      <td>Sushi Restaurant</td>\n",
       "      <td>2411</td>\n",
       "      <td>POINT (-70.57765 -33.41222)</td>\n",
       "    </tr>\n",
       "    <tr>\n",
       "      <th>4</th>\n",
       "      <td>4b44ad89f964a52040f925e3</td>\n",
       "      <td>Office</td>\n",
       "      <td>2939</td>\n",
       "      <td>POINT (-70.57276 -33.40448)</td>\n",
       "    </tr>\n",
       "  </tbody>\n",
       "</table>\n",
       "</div>"
      ],
      "text/plain": [
       "                   venue_id              category  index_right  \\\n",
       "0  4af8ffeaf964a520cd1022e3  Other Great Outdoors         1135   \n",
       "1  4b4463faf964a52078f425e3      Sushi Restaurant         3752   \n",
       "2  4b4463faf964a52078f425e3      Sushi Restaurant         3753   \n",
       "3  4b44abe7f964a5201ef925e3      Sushi Restaurant         2411   \n",
       "4  4b44ad89f964a52040f925e3                Office         2939   \n",
       "\n",
       "                      geometry  \n",
       "0  POINT (-70.66046 -33.44616)  \n",
       "1   POINT (-70.51793 -33.3738)  \n",
       "2   POINT (-70.51793 -33.3738)  \n",
       "3  POINT (-70.57765 -33.41222)  \n",
       "4  POINT (-70.57276 -33.40448)  "
      ]
     },
     "execution_count": 25,
     "metadata": {},
     "output_type": "execute_result"
    }
   ],
   "source": [
    "venues = gpd.read_file('output/santiago_relevant_pois.json')\n",
    "venues.head()"
   ]
  },
  {
   "cell_type": "markdown",
   "metadata": {},
   "source": [
    "## Flow Estimation\n",
    "\n",
    "Check-ins are stored as one row per check-in in the dataframe. However, we need to consider _pairs_ of check-ins by the same user to be able to see a trip.\n",
    "\n",
    "First, we sort the check-ins dataframe by `user_id`, as that ensures that two consecutive check-ins were done by the same user (with the exception of the last check-in of every user, but we deal with that later)."
   ]
  },
  {
   "cell_type": "code",
   "execution_count": 26,
   "metadata": {},
   "outputs": [
    {
     "data": {
      "text/html": [
       "<div>\n",
       "<style scoped>\n",
       "    .dataframe tbody tr th:only-of-type {\n",
       "        vertical-align: middle;\n",
       "    }\n",
       "\n",
       "    .dataframe tbody tr th {\n",
       "        vertical-align: top;\n",
       "    }\n",
       "\n",
       "    .dataframe thead th {\n",
       "        text-align: right;\n",
       "    }\n",
       "</style>\n",
       "<table border=\"1\" class=\"dataframe\">\n",
       "  <thead>\n",
       "    <tr style=\"text-align: right;\">\n",
       "      <th></th>\n",
       "      <th>Unnamed: 0</th>\n",
       "      <th>user_id</th>\n",
       "      <th>venue_id</th>\n",
       "      <th>datetime</th>\n",
       "      <th>index_right</th>\n",
       "    </tr>\n",
       "  </thead>\n",
       "  <tbody>\n",
       "    <tr>\n",
       "      <th>1431897</th>\n",
       "      <td>60701213</td>\n",
       "      <td>230</td>\n",
       "      <td>4b59c564f964a5202c9728e3</td>\n",
       "      <td>Mon Apr 08 19:57:47 +0000 2013</td>\n",
       "      <td>1605</td>\n",
       "    </tr>\n",
       "    <tr>\n",
       "      <th>1268593</th>\n",
       "      <td>50917219</td>\n",
       "      <td>230</td>\n",
       "      <td>50e9b11ee4b06654a0a2dc80</td>\n",
       "      <td>Sat Feb 16 06:30:23 +0000 2013</td>\n",
       "      <td>1761</td>\n",
       "    </tr>\n",
       "    <tr>\n",
       "      <th>1268592</th>\n",
       "      <td>50917219</td>\n",
       "      <td>230</td>\n",
       "      <td>50e9b11ee4b06654a0a2dc80</td>\n",
       "      <td>Sat Feb 16 06:30:23 +0000 2013</td>\n",
       "      <td>1760</td>\n",
       "    </tr>\n",
       "    <tr>\n",
       "      <th>1338203</th>\n",
       "      <td>55382144</td>\n",
       "      <td>230</td>\n",
       "      <td>4d2f5351a6df6dcbd709e27a</td>\n",
       "      <td>Fri Mar 15 04:57:18 +0000 2013</td>\n",
       "      <td>4487</td>\n",
       "    </tr>\n",
       "    <tr>\n",
       "      <th>1338204</th>\n",
       "      <td>55382144</td>\n",
       "      <td>230</td>\n",
       "      <td>4d2f5351a6df6dcbd709e27a</td>\n",
       "      <td>Fri Mar 15 04:57:18 +0000 2013</td>\n",
       "      <td>4488</td>\n",
       "    </tr>\n",
       "  </tbody>\n",
       "</table>\n",
       "</div>"
      ],
      "text/plain": [
       "         Unnamed: 0  user_id                  venue_id  \\\n",
       "1431897    60701213      230  4b59c564f964a5202c9728e3   \n",
       "1268593    50917219      230  50e9b11ee4b06654a0a2dc80   \n",
       "1268592    50917219      230  50e9b11ee4b06654a0a2dc80   \n",
       "1338203    55382144      230  4d2f5351a6df6dcbd709e27a   \n",
       "1338204    55382144      230  4d2f5351a6df6dcbd709e27a   \n",
       "\n",
       "                               datetime  index_right  \n",
       "1431897  Mon Apr 08 19:57:47 +0000 2013         1605  \n",
       "1268593  Sat Feb 16 06:30:23 +0000 2013         1761  \n",
       "1268592  Sat Feb 16 06:30:23 +0000 2013         1760  \n",
       "1338203  Fri Mar 15 04:57:18 +0000 2013         4487  \n",
       "1338204  Fri Mar 15 04:57:18 +0000 2013         4488  "
      ]
     },
     "execution_count": 26,
     "metadata": {},
     "output_type": "execute_result"
    }
   ],
   "source": [
    "checkins_grid = checkins.merge(venues[['venue_id', 'index_right']]).sort_values('user_id').drop('utc_offset', axis=1)\n",
    "checkins_grid.head()"
   ]
  },
  {
   "cell_type": "markdown",
   "metadata": {},
   "source": [
    "Then, we define an utilitary function `shift` that takes a dataframe as input, and then builds a new dataframe where two consecutive rows of the original dataframe are put together, as if they were from a trip.\n",
    "\n",
    "Since we have a dataframe sorted by `user_id`, most of the shifted rows belong to only one user. Those that do not are not real trips, and we filter them out of the dataframe."
   ]
  },
  {
   "cell_type": "code",
   "execution_count": 27,
   "metadata": {},
   "outputs": [],
   "source": [
    "def shift(df):\n",
    "    origin = df.rename({'venue_id': 'origin'}, axis=1)[['origin', 'user_id']]\n",
    "    destination = df.rename({'venue_id': 'destination', 'user_id': 'user_id_d'}, axis=1)[['destination', 'user_id_d']].shift()\n",
    "    trips = (origin.join(destination)\n",
    "             .dropna()\n",
    "             .pipe(lambda x: x[x.user_id == x.user_id_d])\n",
    "             .groupby(['user_id', 'origin', 'destination'])\n",
    "             .size()\n",
    "            )\n",
    "    trips.name = 'n_trips'\n",
    "    return trips\n",
    "\n",
    "#shift(checkins_grid.head(100))"
   ]
  },
  {
   "cell_type": "code",
   "execution_count": 28,
   "metadata": {},
   "outputs": [
    {
     "data": {
      "text/html": [
       "<div>\n",
       "<style scoped>\n",
       "    .dataframe tbody tr th:only-of-type {\n",
       "        vertical-align: middle;\n",
       "    }\n",
       "\n",
       "    .dataframe tbody tr th {\n",
       "        vertical-align: top;\n",
       "    }\n",
       "\n",
       "    .dataframe thead th {\n",
       "        text-align: right;\n",
       "    }\n",
       "</style>\n",
       "<table border=\"1\" class=\"dataframe\">\n",
       "  <thead>\n",
       "    <tr style=\"text-align: right;\">\n",
       "      <th></th>\n",
       "      <th>user_id</th>\n",
       "      <th>origin</th>\n",
       "      <th>destination</th>\n",
       "      <th>n_trips</th>\n",
       "    </tr>\n",
       "  </thead>\n",
       "  <tbody>\n",
       "    <tr>\n",
       "      <th>0</th>\n",
       "      <td>230</td>\n",
       "      <td>4b52419af964a520177327e3</td>\n",
       "      <td>4b6322e2f964a520a6652ae3</td>\n",
       "      <td>1</td>\n",
       "    </tr>\n",
       "    <tr>\n",
       "      <th>1</th>\n",
       "      <td>230</td>\n",
       "      <td>4b549b4ef964a52060c227e3</td>\n",
       "      <td>4e7f48f70aaf89ce53278fb3</td>\n",
       "      <td>1</td>\n",
       "    </tr>\n",
       "    <tr>\n",
       "      <th>2</th>\n",
       "      <td>230</td>\n",
       "      <td>4b562eedf964a520180428e3</td>\n",
       "      <td>4b59c564f964a5202c9728e3</td>\n",
       "      <td>1</td>\n",
       "    </tr>\n",
       "    <tr>\n",
       "      <th>3</th>\n",
       "      <td>230</td>\n",
       "      <td>4b562eedf964a520180428e3</td>\n",
       "      <td>4b65adfef964a52047f92ae3</td>\n",
       "      <td>1</td>\n",
       "    </tr>\n",
       "    <tr>\n",
       "      <th>4</th>\n",
       "      <td>230</td>\n",
       "      <td>4b562eedf964a520180428e3</td>\n",
       "      <td>4d00e897ffcea1434f243091</td>\n",
       "      <td>1</td>\n",
       "    </tr>\n",
       "  </tbody>\n",
       "</table>\n",
       "</div>"
      ],
      "text/plain": [
       "   user_id                    origin               destination  n_trips\n",
       "0      230  4b52419af964a520177327e3  4b6322e2f964a520a6652ae3        1\n",
       "1      230  4b549b4ef964a52060c227e3  4e7f48f70aaf89ce53278fb3        1\n",
       "2      230  4b562eedf964a520180428e3  4b59c564f964a5202c9728e3        1\n",
       "3      230  4b562eedf964a520180428e3  4b65adfef964a52047f92ae3        1\n",
       "4      230  4b562eedf964a520180428e3  4d00e897ffcea1434f243091        1"
      ]
     },
     "execution_count": 28,
     "metadata": {},
     "output_type": "execute_result"
    }
   ],
   "source": [
    "user_trip_counts = shift(checkins_grid).reset_index()\n",
    "user_trip_counts.head()"
   ]
  },
  {
   "cell_type": "code",
   "execution_count": 29,
   "metadata": {},
   "outputs": [
    {
     "data": {
      "text/plain": [
       "(1345629, 4)"
      ]
     },
     "execution_count": 29,
     "metadata": {},
     "output_type": "execute_result"
    }
   ],
   "source": [
    "user_trip_counts.shape"
   ]
  },
  {
   "cell_type": "markdown",
   "metadata": {},
   "source": [
    "Then, we proceed to assign an origin / destination _cell id_ to each trip."
   ]
  },
  {
   "cell_type": "code",
   "execution_count": 30,
   "metadata": {},
   "outputs": [
    {
     "data": {
      "text/html": [
       "<div>\n",
       "<style scoped>\n",
       "    .dataframe tbody tr th:only-of-type {\n",
       "        vertical-align: middle;\n",
       "    }\n",
       "\n",
       "    .dataframe tbody tr th {\n",
       "        vertical-align: top;\n",
       "    }\n",
       "\n",
       "    .dataframe thead th {\n",
       "        text-align: right;\n",
       "    }\n",
       "</style>\n",
       "<table border=\"1\" class=\"dataframe\">\n",
       "  <thead>\n",
       "    <tr style=\"text-align: right;\">\n",
       "      <th></th>\n",
       "      <th>user_id</th>\n",
       "      <th>origin</th>\n",
       "      <th>destination</th>\n",
       "      <th>n_trips</th>\n",
       "      <th>origin_cell_id</th>\n",
       "      <th>destination_cell_id</th>\n",
       "    </tr>\n",
       "  </thead>\n",
       "  <tbody>\n",
       "    <tr>\n",
       "      <th>0</th>\n",
       "      <td>230</td>\n",
       "      <td>4b52419af964a520177327e3</td>\n",
       "      <td>4b6322e2f964a520a6652ae3</td>\n",
       "      <td>1</td>\n",
       "      <td>3643</td>\n",
       "      <td>1605</td>\n",
       "    </tr>\n",
       "    <tr>\n",
       "      <th>1</th>\n",
       "      <td>230</td>\n",
       "      <td>4b549b4ef964a52060c227e3</td>\n",
       "      <td>4e7f48f70aaf89ce53278fb3</td>\n",
       "      <td>1</td>\n",
       "      <td>2577</td>\n",
       "      <td>3635</td>\n",
       "    </tr>\n",
       "    <tr>\n",
       "      <th>2</th>\n",
       "      <td>230</td>\n",
       "      <td>4b562eedf964a520180428e3</td>\n",
       "      <td>4b59c564f964a5202c9728e3</td>\n",
       "      <td>1</td>\n",
       "      <td>3578</td>\n",
       "      <td>1605</td>\n",
       "    </tr>\n",
       "    <tr>\n",
       "      <th>3</th>\n",
       "      <td>230</td>\n",
       "      <td>4b562eedf964a520180428e3</td>\n",
       "      <td>4b65adfef964a52047f92ae3</td>\n",
       "      <td>1</td>\n",
       "      <td>3578</td>\n",
       "      <td>1795</td>\n",
       "    </tr>\n",
       "    <tr>\n",
       "      <th>3</th>\n",
       "      <td>230</td>\n",
       "      <td>4b562eedf964a520180428e3</td>\n",
       "      <td>4b65adfef964a52047f92ae3</td>\n",
       "      <td>1</td>\n",
       "      <td>3578</td>\n",
       "      <td>1796</td>\n",
       "    </tr>\n",
       "  </tbody>\n",
       "</table>\n",
       "</div>"
      ],
      "text/plain": [
       "   user_id                    origin               destination  n_trips  \\\n",
       "0      230  4b52419af964a520177327e3  4b6322e2f964a520a6652ae3        1   \n",
       "1      230  4b549b4ef964a52060c227e3  4e7f48f70aaf89ce53278fb3        1   \n",
       "2      230  4b562eedf964a520180428e3  4b59c564f964a5202c9728e3        1   \n",
       "3      230  4b562eedf964a520180428e3  4b65adfef964a52047f92ae3        1   \n",
       "3      230  4b562eedf964a520180428e3  4b65adfef964a52047f92ae3        1   \n",
       "\n",
       "   origin_cell_id  destination_cell_id  \n",
       "0            3643                 1605  \n",
       "1            2577                 3635  \n",
       "2            3578                 1605  \n",
       "3            3578                 1795  \n",
       "3            3578                 1796  "
      ]
     },
     "execution_count": 30,
     "metadata": {},
     "output_type": "execute_result"
    }
   ],
   "source": [
    "user_trips_grid = (user_trip_counts\n",
    ".join(venues[['venue_id', 'index_right']].set_index('venue_id'), on='origin')\n",
    ".rename({'index_right': 'origin_cell_id'}, axis=1)\n",
    ".join(venues[['venue_id', 'index_right']].set_index('venue_id'), on='destination')\n",
    ".rename({'index_right': 'destination_cell_id'}, axis=1))\n",
    "user_trips_grid.head()"
   ]
  },
  {
   "cell_type": "markdown",
   "metadata": {},
   "source": [
    "Finally, we can compute the flow of people between two cells by aggregating the trips dataframe:"
   ]
  },
  {
   "cell_type": "code",
   "execution_count": 31,
   "metadata": {},
   "outputs": [
    {
     "data": {
      "text/html": [
       "<div>\n",
       "<style scoped>\n",
       "    .dataframe tbody tr th:only-of-type {\n",
       "        vertical-align: middle;\n",
       "    }\n",
       "\n",
       "    .dataframe tbody tr th {\n",
       "        vertical-align: top;\n",
       "    }\n",
       "\n",
       "    .dataframe thead th {\n",
       "        text-align: right;\n",
       "    }\n",
       "</style>\n",
       "<table border=\"1\" class=\"dataframe\">\n",
       "  <thead>\n",
       "    <tr style=\"text-align: right;\">\n",
       "      <th></th>\n",
       "      <th>origin</th>\n",
       "      <th>dest</th>\n",
       "      <th>count</th>\n",
       "    </tr>\n",
       "  </thead>\n",
       "  <tbody>\n",
       "    <tr>\n",
       "      <th>4</th>\n",
       "      <td>0</td>\n",
       "      <td>365</td>\n",
       "      <td>7</td>\n",
       "    </tr>\n",
       "    <tr>\n",
       "      <th>32</th>\n",
       "      <td>0</td>\n",
       "      <td>1395</td>\n",
       "      <td>9</td>\n",
       "    </tr>\n",
       "    <tr>\n",
       "      <th>38</th>\n",
       "      <td>0</td>\n",
       "      <td>1529</td>\n",
       "      <td>6</td>\n",
       "    </tr>\n",
       "    <tr>\n",
       "      <th>39</th>\n",
       "      <td>0</td>\n",
       "      <td>1530</td>\n",
       "      <td>6</td>\n",
       "    </tr>\n",
       "    <tr>\n",
       "      <th>40</th>\n",
       "      <td>0</td>\n",
       "      <td>1531</td>\n",
       "      <td>6</td>\n",
       "    </tr>\n",
       "  </tbody>\n",
       "</table>\n",
       "</div>"
      ],
      "text/plain": [
       "    origin  dest  count\n",
       "4        0   365      7\n",
       "32       0  1395      9\n",
       "38       0  1529      6\n",
       "39       0  1530      6\n",
       "40       0  1531      6"
      ]
     },
     "execution_count": 31,
     "metadata": {},
     "output_type": "execute_result"
    }
   ],
   "source": [
    "flows = (user_trips_grid\n",
    "         [user_trips_grid.origin_cell_id != user_trips_grid.destination_cell_id]\n",
    "         .groupby(['origin_cell_id', 'destination_cell_id'])\n",
    "         ['n_trips']\n",
    "         .sum()\n",
    "         .reset_index()\n",
    "         .pipe(lambda x: x[x.n_trips > 5])\n",
    "         .rename({'origin_cell_id': 'origin', 'destination_cell_id': 'dest', 'n_trips': 'count'}, axis=1)\n",
    "        )\n",
    "flows.head()"
   ]
  },
  {
   "cell_type": "code",
   "execution_count": 32,
   "metadata": {},
   "outputs": [
    {
     "data": {
      "text/plain": [
       "count    97085.000000\n",
       "mean        43.466509\n",
       "std        424.968046\n",
       "min          6.000000\n",
       "25%          8.000000\n",
       "50%         13.000000\n",
       "75%         26.000000\n",
       "max      42767.000000\n",
       "Name: count, dtype: float64"
      ]
     },
     "execution_count": 32,
     "metadata": {},
     "output_type": "execute_result"
    }
   ],
   "source": [
    "flows['count'].describe()"
   ]
  },
  {
   "cell_type": "markdown",
   "metadata": {},
   "source": [
    "## Data Export for Visualization\n",
    "\n",
    "We export the data in the format required in the [flowmap.blue](http://flowmap.blue) platform. It requires a flow magnitude file, and a flow location file.\n",
    "\n",
    "The flow magnitude was estimated above."
   ]
  },
  {
   "cell_type": "code",
   "execution_count": 33,
   "metadata": {},
   "outputs": [],
   "source": [
    "flows.to_csv('output/santiago_foursquare_flow_magnitudes.csv', index=False)"
   ]
  },
  {
   "cell_type": "markdown",
   "metadata": {},
   "source": [
    "The flow locations are the centroids of each cell. "
   ]
  },
  {
   "cell_type": "code",
   "execution_count": 34,
   "metadata": {},
   "outputs": [
    {
     "data": {
      "text/html": [
       "<div>\n",
       "<style scoped>\n",
       "    .dataframe tbody tr th:only-of-type {\n",
       "        vertical-align: middle;\n",
       "    }\n",
       "\n",
       "    .dataframe tbody tr th {\n",
       "        vertical-align: top;\n",
       "    }\n",
       "\n",
       "    .dataframe thead th {\n",
       "        text-align: right;\n",
       "    }\n",
       "</style>\n",
       "<table border=\"1\" class=\"dataframe\">\n",
       "  <thead>\n",
       "    <tr style=\"text-align: right;\">\n",
       "      <th></th>\n",
       "      <th>h3_cellid</th>\n",
       "      <th>index_right</th>\n",
       "      <th>geometry</th>\n",
       "    </tr>\n",
       "  </thead>\n",
       "  <tbody>\n",
       "    <tr>\n",
       "      <th>0</th>\n",
       "      <td>88b2c5cdebfffff</td>\n",
       "      <td>5</td>\n",
       "      <td>POLYGON ((-70.70157 -33.32457, -70.70599 -33.3...</td>\n",
       "    </tr>\n",
       "    <tr>\n",
       "      <th>1</th>\n",
       "      <td>88b2c51281fffff</td>\n",
       "      <td>7</td>\n",
       "      <td>POLYGON ((-70.2935 -33.26894, -70.29789 -33.27...</td>\n",
       "    </tr>\n",
       "    <tr>\n",
       "      <th>2</th>\n",
       "      <td>88b2c55481fffff</td>\n",
       "      <td>26</td>\n",
       "      <td>POLYGON ((-70.6372 -33.4642, -70.64161 -33.467...</td>\n",
       "    </tr>\n",
       "    <tr>\n",
       "      <th>3</th>\n",
       "      <td>88b2c510a3fffff</td>\n",
       "      <td>7</td>\n",
       "      <td>POLYGON ((-70.33679 -33.33516, -70.34119 -33.3...</td>\n",
       "    </tr>\n",
       "    <tr>\n",
       "      <th>4</th>\n",
       "      <td>88b2c552a3fffff</td>\n",
       "      <td>5</td>\n",
       "      <td>POLYGON ((-70.77352 -33.36271, -70.77794 -33.3...</td>\n",
       "    </tr>\n",
       "  </tbody>\n",
       "</table>\n",
       "</div>"
      ],
      "text/plain": [
       "         h3_cellid  index_right  \\\n",
       "0  88b2c5cdebfffff            5   \n",
       "1  88b2c51281fffff            7   \n",
       "2  88b2c55481fffff           26   \n",
       "3  88b2c510a3fffff            7   \n",
       "4  88b2c552a3fffff            5   \n",
       "\n",
       "                                            geometry  \n",
       "0  POLYGON ((-70.70157 -33.32457, -70.70599 -33.3...  \n",
       "1  POLYGON ((-70.2935 -33.26894, -70.29789 -33.27...  \n",
       "2  POLYGON ((-70.6372 -33.4642, -70.64161 -33.467...  \n",
       "3  POLYGON ((-70.33679 -33.33516, -70.34119 -33.3...  \n",
       "4  POLYGON ((-70.77352 -33.36271, -70.77794 -33.3...  "
      ]
     },
     "execution_count": 34,
     "metadata": {},
     "output_type": "execute_result"
    }
   ],
   "source": [
    "grid = gpd.read_file('output/santiago_relevant_grid.geo.json')\n",
    "grid.head()"
   ]
  },
  {
   "cell_type": "markdown",
   "metadata": {},
   "source": [
    "Note that we don't need all cells from the grid, as some of them do not generate or attract trips."
   ]
  },
  {
   "cell_type": "code",
   "execution_count": 35,
   "metadata": {},
   "outputs": [
    {
     "data": {
      "text/plain": [
       "((1484, 3), (4620, 3))"
      ]
     },
     "execution_count": 35,
     "metadata": {},
     "output_type": "execute_result"
    }
   ],
   "source": [
    "flow_grid = grid[grid.index.isin(flows.origin) | grid.index.isin(flows.dest)]\n",
    "flow_grid.shape, grid.shape"
   ]
  },
  {
   "cell_type": "code",
   "execution_count": 36,
   "metadata": {},
   "outputs": [
    {
     "name": "stderr",
     "output_type": "stream",
     "text": [
      "C:\\Users\\sebam\\AppData\\Local\\Temp\\ipykernel_63120\\3643885896.py:1: UserWarning: Geometry is in a geographic CRS. Results from 'centroid' are likely incorrect. Use 'GeoSeries.to_crs()' to re-project geometries to a projected CRS before this operation.\n",
      "\n",
      "  centroids = pd.DataFrame({'x': flow_grid.geometry.centroid.x, 'y': flow_grid.geometry.centroid.y})\n"
     ]
    }
   ],
   "source": [
    "centroids = pd.DataFrame({'x': flow_grid.geometry.centroid.x, 'y': flow_grid.geometry.centroid.y})"
   ]
  },
  {
   "cell_type": "code",
   "execution_count": 37,
   "metadata": {},
   "outputs": [],
   "source": [
    "centroids.index.name = 'id'"
   ]
  },
  {
   "cell_type": "code",
   "execution_count": 38,
   "metadata": {},
   "outputs": [],
   "source": [
    "centroids['name'] = centroids.index.values"
   ]
  },
  {
   "cell_type": "code",
   "execution_count": 39,
   "metadata": {},
   "outputs": [],
   "source": [
    "centroids[['name', 'y', 'x']].rename({'x': 'lon', 'y': 'lat'}, axis=1).to_csv('output/santiago_foursquare_flow_locations.csv')"
   ]
  },
  {
   "cell_type": "markdown",
   "metadata": {},
   "source": [
    "With these files, we can use flowmap.blue. [See here the resulting visualization!](https://flowmap.blue/1VdL8bOI42S_M597lO-uVZG2Hx4ujwudiSrgPFps6oeo)"
   ]
  },
  {
   "cell_type": "markdown",
   "metadata": {},
   "source": [
    "## Next Steps\n",
    "\n",
    "This exploration was only to apply the work of Eduardo Graells in the case of Santiago with foursquare checkins data. The next steps are:\n",
    "\n",
    "- Inspect EOD data\n",
    "- Inspect Adatrap data\n",
    "- Propose a unified format, considering the formats of these datasets\n",
    "- Make the code that converts the datasets to the unified format.\n",
    "- Make the code that converts the unified format so that it can be input to flowmap"
   ]
  },
  {
   "cell_type": "code",
   "execution_count": null,
   "metadata": {},
   "outputs": [],
   "source": []
  }
 ],
 "metadata": {
  "kernelspec": {
   "display_name": "multisource-flows",
   "language": "python",
   "name": "python3"
  },
  "language_info": {
   "codemirror_mode": {
    "name": "ipython",
    "version": 3
   },
   "file_extension": ".py",
   "mimetype": "text/x-python",
   "name": "python",
   "nbconvert_exporter": "python",
   "pygments_lexer": "ipython3",
   "version": "3.13.5"
  }
 },
 "nbformat": 4,
 "nbformat_minor": 4
}
